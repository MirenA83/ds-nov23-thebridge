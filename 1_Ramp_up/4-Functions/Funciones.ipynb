{
 "cells": [
  {
   "cell_type": "markdown",
   "metadata": {},
   "source": [
    "![imagen](./img/python.jpg)"
   ]
  },
  {
   "cell_type": "markdown",
   "metadata": {},
   "source": [
    "# Funciones en Python\n",
    "\n",
    "\n",
    "En este Notebook tienes una guía completa para orientarte en el uso de funciones en Python.\n",
    "\n",
    "Se trata de bloques de código que encapsulan una serie de operaciones. Se usan para modular nuestro código y evitar escribir código de más.\n",
    "\n",
    "1. [Definición, sintaxis y return](#1.-Definición,-sintaxis-y-return)\n",
    "2. [Argumentos posicionales](#2.-Argumentos-posicionales)\n",
    "3. [Argumentos variables](#3.-Argumentos-variables)\n",
    "4. [Argumentos keyword](#4.-Argumentos-keyword)\n",
    "5. [Recursividad](#5.-Recursividad)\n",
    "6. [Documentar funciones](#6.-Documentar-funciones)\n",
    "7. [Resumen](#7.-Resumen)"
   ]
  },
  {
   "cell_type": "markdown",
   "metadata": {},
   "source": [
    "## 1. Definición, sintaxis y return\n",
    "Mediante las **funciones** podemos encapsular código en formato entrada/salida. Por lo que si tienes un código repetitivo, que depende de ciertos inputs, las funciones pueden ser una buena solución.\n",
    "\n",
    "![imagen](./img/funciones.png)\n",
    "\n",
    "Es una manera de agrupar conjuntos de operaciones en módulos. **¿Cuándo usarlas?** Cuando tengamos varias operaciones que ejecutamos repetidamente en distintas partes del código. En ese caso, encapsulamos las operaciones en una función, y cada vez que haya que realizar tal operativa, llamamos a la función, y en una sola línea de código tenemos ejecutada esas operaciones.\n",
    "\n",
    "Hasta ahora hemos estado utilizando funciones *built-in*, para operaciones sencillas como `len()`, `sum()` o `max()`. En este Notebook aprenderas a crear tus propias funciones.\n",
    "\n",
    "La sintaxis es:\n",
    "> ```Python\n",
    "> def nombre_funcion(input):\n",
    ">    operaciones varias\n",
    ">    return output\n",
    "> ```\n",
    "\n",
    "Fíjate que sigue la **sintaxis de línea** vista en Notebooks anteriores. Además, todo lo que va después del `return` es ignorado, puesto que es la salida. En el `return` acaba la función. Ahora bien, eso no quiere decir que haya un único return. Si introducimos una sentencia `if/else`, podremos poner returns diferentes dependiendo de qué condición se cumpla. Vamos a crear nuestra primera función"
   ]
  },
  {
   "cell_type": "code",
   "execution_count": 17,
   "metadata": {},
   "outputs": [],
   "source": [
    "# Vamos a crear un conversor de km a millas\n",
    "def km_millas(distancia):\n",
    "    millas = distancia * 0.62\n",
    "    return millas\n"
   ]
  },
  {
   "cell_type": "code",
   "execution_count": 1,
   "metadata": {},
   "outputs": [
    {
     "data": {
      "text/plain": [
       "2"
      ]
     },
     "execution_count": 1,
     "metadata": {},
     "output_type": "execute_result"
    }
   ],
   "source": [
    "1+1"
   ]
  },
  {
   "cell_type": "markdown",
   "metadata": {},
   "source": [
    "Al ejecutar el código anterior, no corre nada, simplemente almacenamos en memoria la función para usarla posteriormente. **Ahora podremos llamar a la función tantas veces como queramos, desde cualquier parte del codigo.**"
   ]
  },
  {
   "cell_type": "code",
   "execution_count": 16,
   "metadata": {},
   "outputs": [
    {
     "name": "stdout",
     "output_type": "stream",
     "text": [
      "1.24\n",
      "3.1\n",
      "6.2\n"
     ]
    }
   ],
   "source": [
    "# Ahora ejecutamos la funcion\n",
    "print(km_millas(2))\n",
    "print(km_millas(5))\n",
    "print(km_millas(10))"
   ]
  },
  {
   "cell_type": "markdown",
   "metadata": {},
   "source": [
    "Las funciones no tienen por qué llevar argumentos. Eso sí, **es obligatorio** poner los parentesis, tanto en la declaración, como luego al llamar la función."
   ]
  },
  {
   "cell_type": "code",
   "execution_count": 27,
   "metadata": {},
   "outputs": [
    {
     "name": "stdout",
     "output_type": "stream",
     "text": [
      "10:32:40.560628\n",
      "10:32:40.560628\n",
      "[datetime.time(10, 32, 40, 560628)]\n"
     ]
    }
   ],
   "source": [
    "from datetime import datetime\n",
    "\n",
    "saludo = \"hola\"\n",
    "tiempo = []\n",
    "\n",
    "def que_hora_es():\n",
    "    now = datetime.now().time()\n",
    "    print(now)\n",
    "    tiempo.append(now)\n",
    "    return now\n",
    "    \n",
    "\n",
    "print(que_hora_es()) # --> input está vacío, se mete dentro, devuelve now y \"borra\" todas las variables locales\n",
    "print(tiempo)"
   ]
  },
  {
   "cell_type": "markdown",
   "metadata": {},
   "source": [
    "**Tampoco tienen por qué llevar un `return`**. No siempre es necesario un output. En tal caso, devuelve `None`"
   ]
  },
  {
   "cell_type": "code",
   "execution_count": 28,
   "metadata": {},
   "outputs": [
    {
     "name": "stdout",
     "output_type": "stream",
     "text": [
      "10:40:16.178281\n",
      "None\n"
     ]
    }
   ],
   "source": [
    "from datetime import datetime\n",
    "\n",
    "# Fijte que hay dos prints, por eso sale el output de la hora, y el output de la funcion (None)\n",
    "def que_hora_es():\n",
    "    \n",
    "    print(datetime.now().time())\n",
    "    #return None\n",
    "\n",
    "print(que_hora_es())"
   ]
  },
  {
   "cell_type": "markdown",
   "metadata": {},
   "source": [
    "También puedes poner varias salidas en el return, simplemente separándolas por comas. O si lo que quieres es un único elemento, agruparlos en una colección también puede ser otra opción."
   ]
  },
  {
   "cell_type": "code",
   "execution_count": 32,
   "metadata": {},
   "outputs": [
    {
     "name": "stdout",
     "output_type": "stream",
     "text": [
      "hora 10:58:56.378618 fecha 2023-12-01\n"
     ]
    }
   ],
   "source": [
    "def que_hora_es():\n",
    "    time = datetime.now().time() # time\n",
    "    date = datetime.now().date()\n",
    "    return time, date\n",
    "\n",
    "hora, fecha = que_hora_es()\n",
    "print(\"hora\", hora, \"fecha\", fecha)"
   ]
  },
  {
   "cell_type": "markdown",
   "metadata": {},
   "source": [
    "### Tipos de datos de los argumentos\n",
    "Lo que quieras: numeros, texto, listas, tuplas, diccionarios, objetos de clases que hayas definido..."
   ]
  },
  {
   "cell_type": "code",
   "execution_count": 33,
   "metadata": {},
   "outputs": [
    {
     "name": "stdout",
     "output_type": "stream",
     "text": [
      "<class 'tuple'>\n",
      "<class 'list'>\n",
      "<class 'dict'>\n"
     ]
    }
   ],
   "source": [
    "def recibe_mix(tupla, lista, diccionario):\n",
    "    print(type(tupla))\n",
    "    print(type(lista))\n",
    "    print(type(diccionario))\n",
    "    \n",
    "recibe_mix((2,3,4), ['a', 'b', 'c'], {\"X1\": 1, \"X2\": 2})"
   ]
  },
  {
   "cell_type": "markdown",
   "metadata": {},
   "source": [
    "<table align=\"left\">\n",
    " <tr><td width=\"80\"><img src=\"./img/error.png\" style=\"width:auto;height:auto\"></td>\n",
    "     <td style=\"text-align:left\">\n",
    "         <h3>ERRORES variables de la función</h3>\n",
    "         \n",
    " </td></tr>\n",
    "</table>"
   ]
  },
  {
   "cell_type": "code",
   "execution_count": 14,
   "metadata": {},
   "outputs": [
    {
     "name": "stdout",
     "output_type": "stream",
     "text": [
      "1.24\n"
     ]
    },
    {
     "ename": "NameError",
     "evalue": "name 'millas' is not defined",
     "output_type": "error",
     "traceback": [
      "\u001b[1;31m---------------------------------------------------------------------------\u001b[0m",
      "\u001b[1;31mNameError\u001b[0m                                 Traceback (most recent call last)",
      "Cell \u001b[1;32mIn[14], line 9\u001b[0m\n\u001b[0;32m      5\u001b[0m     \u001b[38;5;28;01mreturn\u001b[39;00m millas\n\u001b[0;32m      7\u001b[0m \u001b[38;5;28mprint\u001b[39m(km_millas(\u001b[38;5;241m2\u001b[39m))\n\u001b[1;32m----> 9\u001b[0m \u001b[38;5;28mprint\u001b[39m(\u001b[43mmillas\u001b[49m)\n",
      "\u001b[1;31mNameError\u001b[0m: name 'millas' is not defined"
     ]
    }
   ],
   "source": [
    "# Todo lo que declaremos dentro de la función se crea UNICAMENTE para la función\n",
    "# Fuera de la misma, esas variables no existen\n",
    "def km_millas(distancia):\n",
    "    millas = distancia * 0.62\n",
    "    return millas\n",
    "\n",
    "print(km_millas(2))\n",
    "\n",
    "print(millas)"
   ]
  },
  {
   "cell_type": "markdown",
   "metadata": {},
   "source": [
    "Se crea un namespace interno dentro de las funciones, es decir, que lo que declaremos dentro, se queda dentro. No lo podremos usar fuera. Además, ten en cuenta que todo lo que introduzcamos dentro de flujos de control (`if/else`, bucles...), nos vale para el resto de la función"
   ]
  },
  {
   "cell_type": "code",
   "execution_count": 41,
   "metadata": {},
   "outputs": [
    {
     "data": {
      "text/plain": [
       "1"
      ]
     },
     "execution_count": 41,
     "metadata": {},
     "output_type": "execute_result"
    }
   ],
   "source": [
    "def numero_ifs(numero):\n",
    "    if numero == 1:\n",
    "        if numero == 1:\n",
    "            if numero == 1:\n",
    "                if numero == 1:\n",
    "                    out = 1\n",
    "                    \n",
    "        \n",
    "    return out\n",
    "\n",
    "numero_ifs(1)"
   ]
  },
  {
   "cell_type": "code",
   "execution_count": 42,
   "metadata": {},
   "outputs": [
    {
     "ename": "UnboundLocalError",
     "evalue": "cannot access local variable 'out' where it is not associated with a value",
     "output_type": "error",
     "traceback": [
      "\u001b[1;31m---------------------------------------------------------------------------\u001b[0m",
      "\u001b[1;31mUnboundLocalError\u001b[0m                         Traceback (most recent call last)",
      "\u001b[1;32mc:\\Users\\Admin\\Documents\\GitHub\\ds-nov23-thebridge\\1_Ramp_up\\4-Functions\\Funciones.ipynb Cell 20\u001b[0m line \u001b[0;36m1\n\u001b[1;32m----> <a href='vscode-notebook-cell:/c%3A/Users/Admin/Documents/GitHub/ds-nov23-thebridge/1_Ramp_up/4-Functions/Funciones.ipynb#X24sZmlsZQ%3D%3D?line=0'>1</a>\u001b[0m numero_ifs(\u001b[39m2\u001b[39;49m)\n",
      "\u001b[1;32mc:\\Users\\Admin\\Documents\\GitHub\\ds-nov23-thebridge\\1_Ramp_up\\4-Functions\\Funciones.ipynb Cell 20\u001b[0m line \u001b[0;36m9\n\u001b[0;32m      <a href='vscode-notebook-cell:/c%3A/Users/Admin/Documents/GitHub/ds-nov23-thebridge/1_Ramp_up/4-Functions/Funciones.ipynb#X24sZmlsZQ%3D%3D?line=4'>5</a>\u001b[0m             \u001b[39mif\u001b[39;00m numero \u001b[39m==\u001b[39m \u001b[39m1\u001b[39m:\n\u001b[0;32m      <a href='vscode-notebook-cell:/c%3A/Users/Admin/Documents/GitHub/ds-nov23-thebridge/1_Ramp_up/4-Functions/Funciones.ipynb#X24sZmlsZQ%3D%3D?line=5'>6</a>\u001b[0m                 out \u001b[39m=\u001b[39m \u001b[39m1\u001b[39m\n\u001b[1;32m----> <a href='vscode-notebook-cell:/c%3A/Users/Admin/Documents/GitHub/ds-nov23-thebridge/1_Ramp_up/4-Functions/Funciones.ipynb#X24sZmlsZQ%3D%3D?line=8'>9</a>\u001b[0m \u001b[39mreturn\u001b[39;00m out\n",
      "\u001b[1;31mUnboundLocalError\u001b[0m: cannot access local variable 'out' where it is not associated with a value"
     ]
    }
   ],
   "source": [
    "numero_ifs(2)"
   ]
  },
  {
   "cell_type": "code",
   "execution_count": 43,
   "metadata": {},
   "outputs": [
    {
     "ename": "TypeError",
     "evalue": "km_millas() missing 1 required positional argument: 'distancia'",
     "output_type": "error",
     "traceback": [
      "\u001b[1;31m---------------------------------------------------------------------------\u001b[0m",
      "\u001b[1;31mTypeError\u001b[0m                                 Traceback (most recent call last)",
      "\u001b[1;32mc:\\Users\\Admin\\Documents\\GitHub\\ds-nov23-thebridge\\1_Ramp_up\\4-Functions\\Funciones.ipynb Cell 21\u001b[0m line \u001b[0;36m6\n\u001b[0;32m      <a href='vscode-notebook-cell:/c%3A/Users/Admin/Documents/GitHub/ds-nov23-thebridge/1_Ramp_up/4-Functions/Funciones.ipynb#X25sZmlsZQ%3D%3D?line=1'>2</a>\u001b[0m     millas \u001b[39m=\u001b[39m distancia \u001b[39m*\u001b[39m \u001b[39m0.62\u001b[39m\n\u001b[0;32m      <a href='vscode-notebook-cell:/c%3A/Users/Admin/Documents/GitHub/ds-nov23-thebridge/1_Ramp_up/4-Functions/Funciones.ipynb#X25sZmlsZQ%3D%3D?line=2'>3</a>\u001b[0m     \u001b[39mreturn\u001b[39;00m millas\n\u001b[1;32m----> <a href='vscode-notebook-cell:/c%3A/Users/Admin/Documents/GitHub/ds-nov23-thebridge/1_Ramp_up/4-Functions/Funciones.ipynb#X25sZmlsZQ%3D%3D?line=5'>6</a>\u001b[0m \u001b[39mprint\u001b[39m(km_millas())\n",
      "\u001b[1;31mTypeError\u001b[0m: km_millas() missing 1 required positional argument: 'distancia'"
     ]
    }
   ],
   "source": [
    "def km_millas(distancia):\n",
    "    millas = distancia * 0.62\n",
    "    return millas\n",
    "\n",
    "\n",
    "print(km_millas())"
   ]
  },
  {
   "cell_type": "code",
   "execution_count": 16,
   "metadata": {},
   "outputs": [
    {
     "data": {
      "text/plain": [
       "'33'"
      ]
     },
     "execution_count": 16,
     "metadata": {},
     "output_type": "execute_result"
    }
   ],
   "source": [
    "\"3\" * 2"
   ]
  },
  {
   "cell_type": "markdown",
   "metadata": {},
   "source": [
    "Cuidado también con la sintaxis de línea. Después de dos puntos `:`, viene todo el bloque de código tabulado, de la función"
   ]
  },
  {
   "cell_type": "markdown",
   "metadata": {},
   "source": [
    "<table align=\"left\">\n",
    " <tr><td width=\"80\"><img src=\"./img/ejercicio.png\" style=\"width:auto;height:auto\"></td>\n",
    "     <td style=\"text-align:left\">\n",
    "         <h3>Ejercicio. Crea tu propia funcion</h3>\n",
    "\n",
    "Crea tu propia funcion. En este caso, queremos implementar una función para saber si podremos ir de excursión a la montaña. Para ello, la función recibirá dos argumentos: tiempo, que sera un booleano, y una lista con acompañantes. Si hace buen tiempo y al menos vienen dos personas conmigo -> return el primero que se apuntó a la lista, si solo hace buen tiempo -> return \"Hoy salimos\", y si no, return \"No podemos ir\"\n",
    "         \n",
    " </td></tr>\n",
    "</table>"
   ]
  },
  {
   "cell_type": "code",
   "execution_count": 45,
   "metadata": {},
   "outputs": [
    {
     "data": {
      "text/plain": [
       "'Hoy salimos'"
      ]
     },
     "execution_count": 45,
     "metadata": {},
     "output_type": "execute_result"
    }
   ],
   "source": [
    "\n",
    "def excur_montania(tiempo, amigos):\n",
    "    if tiempo == True and len(amigos) > 1:\n",
    "        return amigos[0]\n",
    "    elif tiempo == True:\n",
    "        return \"Hoy salimos\"\n",
    "    else:\n",
    "        return \"No podemo salir\"\n",
    "\n",
    "excur_montania(True, [\"Pepe\"])"
   ]
  },
  {
   "cell_type": "code",
   "execution_count": 47,
   "metadata": {},
   "outputs": [],
   "source": [
    "def excur_montania(tiempo, amigos):\n",
    "    \n",
    "    if tiempo == True:\n",
    "        if len(amigos) > 1:\n",
    "            return amigos[0]\n",
    "        else:\n",
    "            return \"Hoy salimos\"\n",
    "\n",
    "    else:\n",
    "        return \"No podemos salir\""
   ]
  },
  {
   "cell_type": "code",
   "execution_count": 48,
   "metadata": {},
   "outputs": [
    {
     "data": {
      "text/plain": [
       "'Hoy salimos'"
      ]
     },
     "execution_count": 48,
     "metadata": {},
     "output_type": "execute_result"
    }
   ],
   "source": [
    "excur_montania(True, [\"Pepe\"])"
   ]
  },
  {
   "cell_type": "markdown",
   "metadata": {},
   "source": [
    "## 2. Argumentos posicionales\n",
    "Ya sabes cómo crear funciones con un solo argumento. Tendrás la opción de implementarlas con todos los argumentos que quieras. Ahora bien, ten en cuenta dos cosas:\n",
    "\n",
    "1. **El orden** de los argumentos. Cuando llamemos a la función, tenemos que seguir el mismo orden de argumentos que en la declaración de la función.\n",
    "2. **Son obligatorios**. Si los declaramos en la función, después al llamarla, tenemos que poner todos sus argumentos. Luego veremos que hay una manera de poner argumentos opcionales."
   ]
  },
  {
   "cell_type": "code",
   "execution_count": 49,
   "metadata": {},
   "outputs": [
    {
     "data": {
      "text/plain": [
       "84.0"
      ]
     },
     "execution_count": 49,
     "metadata": {},
     "output_type": "execute_result"
    }
   ],
   "source": [
    "def multiplica(x1, x2, x3, x4):\n",
    "    return (x1 * x2 * x3) / x4\n",
    "\n",
    "multiplica(4,6,7,2)"
   ]
  },
  {
   "cell_type": "markdown",
   "metadata": {},
   "source": [
    "Fijate que los argumentos siguen un determinado orden: x1, x2, x3, x4. Cuando llamamos a la función, introduciremos 4 argumentos y la función los recogerá en ese orden. Asignará 4 a x1, 6 a x2, etc. Podemos también especificar el nombre del argumento en la llamada, lo que nos permite tener mayor flexibilidad en el orden."
   ]
  },
  {
   "cell_type": "code",
   "execution_count": 50,
   "metadata": {},
   "outputs": [
    {
     "data": {
      "text/plain": [
       "84.0"
      ]
     },
     "execution_count": 50,
     "metadata": {},
     "output_type": "execute_result"
    }
   ],
   "source": [
    "multiplica(x2 = 6, # Aqui pongo x2\n",
    "            x1 = 4, # Y aqui x1\n",
    "            x3 = 7,\n",
    "            x4 = 2)"
   ]
  },
  {
   "cell_type": "code",
   "execution_count": 51,
   "metadata": {},
   "outputs": [
    {
     "data": {
      "text/plain": [
       "12.0"
      ]
     },
     "execution_count": 51,
     "metadata": {},
     "output_type": "execute_result"
    }
   ],
   "source": [
    "multiplica(x4 = 10, x3 = 4,x2= 5,x1 = 6)"
   ]
  },
  {
   "cell_type": "markdown",
   "metadata": {},
   "source": [
    "<table align=\"left\">\n",
    " <tr><td width=\"80\"><img src=\"./img/error.png\" style=\"width:auto;height:auto\"></td>\n",
    "     <td style=\"text-align:left\">\n",
    "         <h3>ERRORES Traza del error dentro de la función</h3>\n",
    "         \n",
    " </td></tr>\n",
    "</table>"
   ]
  },
  {
   "cell_type": "code",
   "execution_count": 52,
   "metadata": {},
   "outputs": [
    {
     "ename": "ZeroDivisionError",
     "evalue": "division by zero",
     "output_type": "error",
     "traceback": [
      "\u001b[1;31m---------------------------------------------------------------------------\u001b[0m",
      "\u001b[1;31mZeroDivisionError\u001b[0m                         Traceback (most recent call last)",
      "\u001b[1;32mc:\\Users\\Admin\\Documents\\GitHub\\ds-nov23-thebridge\\1_Ramp_up\\4-Functions\\Funciones.ipynb Cell 34\u001b[0m line \u001b[0;36m1\n\u001b[1;32m----> <a href='vscode-notebook-cell:/c%3A/Users/Admin/Documents/GitHub/ds-nov23-thebridge/1_Ramp_up/4-Functions/Funciones.ipynb#X44sZmlsZQ%3D%3D?line=0'>1</a>\u001b[0m multiplica(x4 \u001b[39m=\u001b[39;49m \u001b[39m0\u001b[39;49m, \u001b[39m# Aqui pongo x2\u001b[39;49;00m\n\u001b[0;32m      <a href='vscode-notebook-cell:/c%3A/Users/Admin/Documents/GitHub/ds-nov23-thebridge/1_Ramp_up/4-Functions/Funciones.ipynb#X44sZmlsZQ%3D%3D?line=1'>2</a>\u001b[0m             x1 \u001b[39m=\u001b[39;49m \u001b[39m4\u001b[39;49m, \u001b[39m# Y aqui x1\u001b[39;49;00m\n\u001b[0;32m      <a href='vscode-notebook-cell:/c%3A/Users/Admin/Documents/GitHub/ds-nov23-thebridge/1_Ramp_up/4-Functions/Funciones.ipynb#X44sZmlsZQ%3D%3D?line=2'>3</a>\u001b[0m             x3 \u001b[39m=\u001b[39;49m \u001b[39m7\u001b[39;49m,\n\u001b[0;32m      <a href='vscode-notebook-cell:/c%3A/Users/Admin/Documents/GitHub/ds-nov23-thebridge/1_Ramp_up/4-Functions/Funciones.ipynb#X44sZmlsZQ%3D%3D?line=3'>4</a>\u001b[0m             x2 \u001b[39m=\u001b[39;49m \u001b[39m6\u001b[39;49m)\n",
      "\u001b[1;32mc:\\Users\\Admin\\Documents\\GitHub\\ds-nov23-thebridge\\1_Ramp_up\\4-Functions\\Funciones.ipynb Cell 34\u001b[0m line \u001b[0;36m2\n\u001b[0;32m      <a href='vscode-notebook-cell:/c%3A/Users/Admin/Documents/GitHub/ds-nov23-thebridge/1_Ramp_up/4-Functions/Funciones.ipynb#X44sZmlsZQ%3D%3D?line=0'>1</a>\u001b[0m \u001b[39mdef\u001b[39;00m \u001b[39mmultiplica\u001b[39m(x1, x2, x3, x4):\n\u001b[1;32m----> <a href='vscode-notebook-cell:/c%3A/Users/Admin/Documents/GitHub/ds-nov23-thebridge/1_Ramp_up/4-Functions/Funciones.ipynb#X44sZmlsZQ%3D%3D?line=1'>2</a>\u001b[0m     \u001b[39mreturn\u001b[39;00m (x1 \u001b[39m*\u001b[39;49m x2 \u001b[39m*\u001b[39;49m x3) \u001b[39m/\u001b[39;49m x4\n",
      "\u001b[1;31mZeroDivisionError\u001b[0m: division by zero"
     ]
    }
   ],
   "source": [
    "multiplica(x4 = 0, # Aqui pongo x2\n",
    "            x1 = 4, # Y aqui x1\n",
    "            x3 = 7,\n",
    "            x2 = 6)"
   ]
  },
  {
   "cell_type": "markdown",
   "metadata": {},
   "source": [
    "Fijate que aparece toda la traza del error, tanto la línea donde llamas a la función, como el error dentro de la función. Podemos solventar el error, introduciendo un bloque `try/except`"
   ]
  },
  {
   "cell_type": "code",
   "execution_count": 53,
   "metadata": {},
   "outputs": [
    {
     "name": "stdout",
     "output_type": "stream",
     "text": [
      "<class 'ZeroDivisionError'>\n",
      "Ha habido un error en la funcion multipl\n"
     ]
    }
   ],
   "source": [
    "try:\n",
    "    multiplica(x4 = 0, # Aqui pongo x2\n",
    "        x1 = 4, # Y aqui x1\n",
    "        x3 = 7,\n",
    "        x2 = 6)\n",
    "except ZeroDivisionError:\n",
    "    print(ZeroDivisionError)\n",
    "    print(\"Ha habido un error en la funcion multipl\")"
   ]
  },
  {
   "cell_type": "markdown",
   "metadata": {},
   "source": [
    "## 3. Argumentos variables\n",
    "En los ejemplos anteriores teníamos que fijar un número concreto de argumentos, pero hay ocasiones que no tenemos seguro cuántos argumentos son. Por suerte, las funciones de Python nos aportan esa flexibilidad mediante `*`\n",
    "\n",
    "Veamos cómo implementar una función multiplicadora con numero variable de argumentos"
   ]
  },
  {
   "cell_type": "code",
   "execution_count": 55,
   "metadata": {},
   "outputs": [
    {
     "name": "stdout",
     "output_type": "stream",
     "text": [
      "<class 'tuple'>\n",
      "30\n",
      "<class 'tuple'>\n",
      "1260\n",
      "<class 'tuple'>\n",
      "2\n"
     ]
    }
   ],
   "source": [
    "def multipl_var(*args):\n",
    "    print(type(args))\n",
    "    mult_tot = 1\n",
    "\n",
    "    for i in args:\n",
    "        mult_tot = mult_tot * i\n",
    "\n",
    "    return mult_tot\n",
    "\n",
    "print(multipl_var(2,5,3))\n",
    "print(multipl_var(2, 5, 3, 6, 7))\n",
    "print(multipl_var(2))"
   ]
  },
  {
   "cell_type": "markdown",
   "metadata": {},
   "source": [
    "Ten en cuenta que `*args` es algo variable con X elementos. Como no sabemos a priori cuantos son, tendremos que recorrerlos con un `for`, y para cada argumento, aplicarle una operación. Por tanto, `*args` es un iterable, en concreto una **tupla**. Lo que le está dando la funcionalidad de \"argumentos variables\" es `*`, no `args`. Igual que ponemos `*args`, podemos poner `*argumentos`.\n",
    "\n",
    "Puedes combinar argumentos posicionales con los `*args`"
   ]
  },
  {
   "cell_type": "code",
   "execution_count": 60,
   "metadata": {},
   "outputs": [
    {
     "name": "stdout",
     "output_type": "stream",
     "text": [
      "<class 'tuple'>\n",
      "60.0\n",
      "<class 'tuple'>\n",
      "252.0\n",
      "<class 'tuple'>\n",
      "0.2222222222222222\n"
     ]
    }
   ],
   "source": [
    "# Definimos la funcion\n",
    "def multipl_var_div(*args, div):\n",
    "    print(type(args))\n",
    "    mult_tot = 1\n",
    "    \n",
    "    for i in args:\n",
    "        mult_tot = mult_tot * i\n",
    "        \n",
    "    return mult_tot/div\n",
    "\n",
    "# Llamamos a la funcion\n",
    "print(multipl_var_div(2, 5, 3, 10, div = 5))\n",
    "print(multipl_var_div(2, 5, 3, 6, 7, div = 5))\n",
    "print(multipl_var_div(2, div = 9))"
   ]
  },
  {
   "cell_type": "code",
   "execution_count": null,
   "metadata": {},
   "outputs": [],
   "source": []
  },
  {
   "cell_type": "markdown",
   "metadata": {},
   "source": [
    "<table align=\"left\">\n",
    " <tr><td width=\"80\"><img src=\"./img/error.png\" style=\"width:auto;height:auto\"></td>\n",
    "     <td style=\"text-align:left\">\n",
    "         <h3>ERRORES con argumentos variables</h3>\n",
    "         \n",
    " </td></tr>\n",
    "</table>"
   ]
  },
  {
   "cell_type": "markdown",
   "metadata": {},
   "source": [
    "Declara los argumentos variables al principio, y los fijos al final para evitar errores. Además, si los combinas, tendrás que concretar cuáles son los argumentos fijos"
   ]
  },
  {
   "cell_type": "code",
   "execution_count": 61,
   "metadata": {},
   "outputs": [
    {
     "ename": "TypeError",
     "evalue": "multipl_var_div() missing 1 required keyword-only argument: 'div'",
     "output_type": "error",
     "traceback": [
      "\u001b[1;31m---------------------------------------------------------------------------\u001b[0m",
      "\u001b[1;31mTypeError\u001b[0m                                 Traceback (most recent call last)",
      "\u001b[1;32mc:\\Users\\Admin\\Documents\\GitHub\\ds-nov23-thebridge\\1_Ramp_up\\4-Functions\\Funciones.ipynb Cell 44\u001b[0m line \u001b[0;36m1\n\u001b[1;32m----> <a href='vscode-notebook-cell:/c%3A/Users/Admin/Documents/GitHub/ds-nov23-thebridge/1_Ramp_up/4-Functions/Funciones.ipynb#X60sZmlsZQ%3D%3D?line=0'>1</a>\u001b[0m \u001b[39mprint\u001b[39m(multipl_var_div(\u001b[39m2\u001b[39;49m, \u001b[39m5\u001b[39;49m, \u001b[39m3\u001b[39;49m, \u001b[39m10\u001b[39;49m))\n",
      "\u001b[1;31mTypeError\u001b[0m: multipl_var_div() missing 1 required keyword-only argument: 'div'"
     ]
    }
   ],
   "source": [
    "print(multipl_var_div(2, 5, 3, 10))\n"
   ]
  },
  {
   "cell_type": "markdown",
   "metadata": {},
   "source": [
    "<table align=\"left\">\n",
    " <tr><td width=\"80\"><img src=\"./img/ejercicio.png\" style=\"width:auto;height:auto\"></td>\n",
    "     <td style=\"text-align:left\">\n",
    "         <h3>Ejercicio argumentos variables</h3>\n",
    "Crea una función que reciba un numero variable de marcas de coche, las concatene todas separandolas por comas y devuelva ese string concatenado\n",
    "         \n",
    " </td></tr>\n",
    "</table>"
   ]
  },
  {
   "cell_type": "code",
   "execution_count": 65,
   "metadata": {},
   "outputs": [
    {
     "data": {
      "text/plain": [
       "'Mazda, BMW, VW'"
      ]
     },
     "execution_count": 65,
     "metadata": {},
     "output_type": "execute_result"
    }
   ],
   "source": [
    "def marcas_coche(*marcas):\n",
    "    tot = ''\n",
    "    for marca in marcas:\n",
    "        tot = tot + marca + ', '\n",
    "    return tot[:-2]\n",
    "\n",
    "marcas_coche(\"Mazda\", \"BMW\", \"VW\")"
   ]
  },
  {
   "cell_type": "markdown",
   "metadata": {},
   "source": [
    "### Argumentos variables con clave-valor\n",
    "Tenemos también la opción de introducir un diccionario como argumentos, de esta forma, aunque el numero de argumentos sea variable, tendremos un inidicador, la clave, y el valor de cada clave. Se implementa con `**`"
   ]
  },
  {
   "cell_type": "code",
   "execution_count": 66,
   "metadata": {},
   "outputs": [
    {
     "name": "stdout",
     "output_type": "stream",
     "text": [
      "<class 'dict'>\n",
      "marca = iPhone\n",
      "precio = 700\n",
      "camara = True\n",
      "frontal_trasera = [12, 48]\n",
      "{'marca': 'iPhone', 'precio': 700, 'camara': True, 'frontal_trasera': [12, 48]}\n"
     ]
    }
   ],
   "source": [
    "def movil(**kwargs):\n",
    "    print(type(kwargs))\n",
    "    for key, value in kwargs.items():\n",
    "        print(key, \"=\", value)\n",
    "    return kwargs\n",
    "\n",
    "print(movil(marca = \"iPhone\", precio = 700, camara = True, frontal_trasera = [12, 48]))"
   ]
  },
  {
   "cell_type": "code",
   "execution_count": 68,
   "metadata": {},
   "outputs": [
    {
     "name": "stdout",
     "output_type": "stream",
     "text": [
      "<class 'dict'>\n",
      "marca2 = lalala\n"
     ]
    },
    {
     "data": {
      "text/plain": [
       "{'marca2': 'lalala'}"
      ]
     },
     "execution_count": 68,
     "metadata": {},
     "output_type": "execute_result"
    }
   ],
   "source": [
    "mi_dicc = {\"marca2\": \"lalala\"}\n",
    "movil(**mi_dicc)"
   ]
  },
  {
   "cell_type": "code",
   "execution_count": 73,
   "metadata": {},
   "outputs": [
    {
     "data": {
      "text/plain": [
       "8.12"
      ]
     },
     "execution_count": 73,
     "metadata": {},
     "output_type": "execute_result"
    }
   ],
   "source": [
    "parametros_y_argumentos = {\n",
    "    \"number\": 8.12345,\n",
    "    \"ndigits\" : 2\n",
    "}\n",
    "round(**parametros_y_argumentos)"
   ]
  },
  {
   "cell_type": "code",
   "execution_count": 83,
   "metadata": {},
   "outputs": [
    {
     "data": {
      "text/plain": [
       "(6, 39, 5)"
      ]
     },
     "execution_count": 83,
     "metadata": {},
     "output_type": "execute_result"
    }
   ],
   "source": [
    "def suma_dentro(*args):\n",
    "    resultado = []\n",
    "    for elemento in args:\n",
    "        resultado.append(sum(elemento))\n",
    "    return tuple(resultado)\n",
    "\n",
    "suma_dentro((1,2,3), (4,5,6,7,8,9), (2,3))"
   ]
  },
  {
   "cell_type": "markdown",
   "metadata": {},
   "source": [
    "### Combinar `*args` con `**kwargs`\n",
    "No hay ningun problema en tener un numero variable de argumentos y también argumentos clave-valor, todo ello en la misma función."
   ]
  },
  {
   "cell_type": "code",
   "execution_count": 36,
   "metadata": {},
   "outputs": [
    {
     "name": "stdout",
     "output_type": "stream",
     "text": [
      "Tipo de args: <class 'tuple'>\n",
      "(2, 3, 4)\n",
      "{'a': 8}\n",
      "Tipo de kwargs: <class 'dict'>\n",
      "{}\n"
     ]
    }
   ],
   "source": [
    "def movil(*args,**kwargs):\n",
    "    \n",
    "    print(\"Tipo de args:\", type(args))\n",
    "    for i in args:\n",
    "        print(i)\n",
    "        \n",
    "        \n",
    "    print(\"Tipo de kwargs:\", type(kwargs))\n",
    "    for key, value in kwargs.items():\n",
    "        print(key, \"=\", value)\n",
    "        \n",
    "    return kwargs\n",
    "\n",
    "# Llamamos a la funcion\n",
    "print(movil(\n",
    "           \"Movil bueno\",\n",
    "           \"Le dura la bateria\",\n",
    "           Camara = \"24MPx\",\n",
    "           Bateria = 10,\n",
    "           Peso = 200))"
   ]
  },
  {
   "cell_type": "markdown",
   "metadata": {},
   "source": [
    "## 4. Argumentos keyword\n",
    "Existe otro tipo de argumentos que son los *keyword*. Se caracterizan porque llevan un valor por defecto, y por tanto, si no usamos dicho argumento en la llamada, dentro de la función tomará el valor que hayamos dejado por defecto.\n",
    "\n",
    "Ten en cuenta que estos argumentos se colocan **al final**"
   ]
  },
  {
   "cell_type": "code",
   "execution_count": 84,
   "metadata": {},
   "outputs": [
    {
     "name": "stdout",
     "output_type": "stream",
     "text": [
      "Su pedido AAA se entregará el 20-07-2020\n",
      "Contacte con Att. Cliente\n"
     ]
    }
   ],
   "source": [
    "def venta_online(pedido, fecha_entrega, incidencia = False):\n",
    "    \n",
    "    if(incidencia):\n",
    "        print(\"Contacte con Att. Cliente\")\n",
    "        \n",
    "    else:\n",
    "        print(\"Su pedido\", pedido, \"se entregará el\", fecha_entrega)\n",
    "        \n",
    "venta_online(\"AAA\", \"20-07-2020\")\n",
    "venta_online(\"AAA\", \"20-07-2020\", True)"
   ]
  },
  {
   "cell_type": "code",
   "execution_count": 85,
   "metadata": {},
   "outputs": [
    {
     "ename": "SyntaxError",
     "evalue": "non-default argument follows default argument (1523403181.py, line 1)",
     "output_type": "error",
     "traceback": [
      "\u001b[1;36m  Cell \u001b[1;32mIn[85], line 1\u001b[1;36m\u001b[0m\n\u001b[1;33m    def venta_online(pedido, incidencia = False, fecha_entrega):\u001b[0m\n\u001b[1;37m                                                 ^\u001b[0m\n\u001b[1;31mSyntaxError\u001b[0m\u001b[1;31m:\u001b[0m non-default argument follows default argument\n"
     ]
    }
   ],
   "source": [
    "def venta_online(pedido, incidencia = False, fecha_entrega):\n",
    "    \n",
    "    if(incidencia):\n",
    "        print(\"Contacte con Att. Cliente\")\n",
    "        \n",
    "    else:\n",
    "        print(\"Su pedido\", pedido, \"se entregará el\", fecha_entrega)\n",
    "        "
   ]
  },
  {
   "cell_type": "code",
   "execution_count": 91,
   "metadata": {},
   "outputs": [
    {
     "name": "stdout",
     "output_type": "stream",
     "text": [
      "['hola']\n"
     ]
    }
   ],
   "source": [
    "sorpresa = []\n",
    "def equis(num1, num2, suma = True, dobla = False, otro = 10, lista = []):\n",
    "    if not dobla:\n",
    "        return num1 + num2 + otro\n",
    "    else:\n",
    "        #return (num1 + num2 + otro) * 2\n",
    "        lista.append(\"hola\")\n",
    "        return lista\n",
    "equis(2,3, suma = 2==2, dobla = True,otro = 10, lista= sorpresa)\n",
    "print(sorpresa)\n",
    "\n"
   ]
  },
  {
   "cell_type": "code",
   "execution_count": null,
   "metadata": {},
   "outputs": [],
   "source": [
    "def suma(num1, num2, num3 = 5, num4 = 2, num5 = 8):\n",
    "    return num1 + num2 + num3 + num4 + num5"
   ]
  },
  {
   "cell_type": "markdown",
   "metadata": {},
   "source": [
    "<table align=\"left\">\n",
    " <tr><td width=\"80\"><img src=\"./img/error.png\" style=\"width:auto;height:auto\"></td>\n",
    "     <td style=\"text-align:left\">\n",
    "         <h3>ERRORES con argumentos keyword</h3>\n",
    "         \n",
    " </td></tr>\n",
    "</table>"
   ]
  },
  {
   "cell_type": "code",
   "execution_count": 21,
   "metadata": {},
   "outputs": [
    {
     "ename": "SyntaxError",
     "evalue": "non-default argument follows default argument (Temp/ipykernel_15280/3733219502.py, line 1)",
     "output_type": "error",
     "traceback": [
      "\u001b[1;36m  File \u001b[1;32m\"C:\\Users\\Admin\\AppData\\Local\\Temp/ipykernel_15280/3733219502.py\"\u001b[1;36m, line \u001b[1;32m1\u001b[0m\n\u001b[1;33m    def venta_online(pedido, incidencia = False, fecha_entrega):\u001b[0m\n\u001b[1;37m                    ^\u001b[0m\n\u001b[1;31mSyntaxError\u001b[0m\u001b[1;31m:\u001b[0m non-default argument follows default argument\n"
     ]
    }
   ],
   "source": [
    "def venta_online(pedido, incidencia = False, fecha_entrega):\n",
    "    \n",
    "    if(incidencia):\n",
    "        print(\"Contacte con Att. Cliente\")\n",
    "        \n",
    "    else:\n",
    "        print(\"Su pedido\", pedido, \"se entregará el\", fecha_entrega)"
   ]
  },
  {
   "cell_type": "markdown",
   "metadata": {},
   "source": [
    "## 5. Recursividad\n",
    "Una función se puede llamar a si misma en la propia declaración, como si de un bucle se tratase. Es un concepto algo complejo, pero elegante a la hora de implementar nuestros programas. La única parte negativa es que cuesta un poco comprender qué es lo que hace la función. Como todo, tiene sus ventajas y sus inconvenientes.\n",
    "\n",
    "Calculemos el factorial de un numero *!n*"
   ]
  },
  {
   "cell_type": "markdown",
   "metadata": {},
   "source": [
    "0! = 1\n",
    "1! = 1 x 0! = 1 x 1 = 1\n",
    "2! = 2 x 1! = 2 x 1 x 0! = 2 x 1 x 1 = 2\n",
    "3! = 3! 3 x 2!\n"
   ]
  },
  {
   "cell_type": "code",
   "execution_count": 92,
   "metadata": {},
   "outputs": [
    {
     "name": "stdout",
     "output_type": "stream",
     "text": [
      "1\n",
      "2\n",
      "3\n",
      "6\n"
     ]
    }
   ],
   "source": [
    "# Lo podriamos calcular con un bucle\n",
    "num_factorial = 3\n",
    "\n",
    "output = 1\n",
    "for i in range(num_factorial):\n",
    "    output = output * (i + 1)\n",
    "    print(i + 1)\n",
    "print(output)\n"
   ]
  },
  {
   "cell_type": "code",
   "execution_count": 93,
   "metadata": {},
   "outputs": [],
   "source": [
    "# O mediante una funcion recursiva\n",
    "def factorial(x):\n",
    "    if x == 1:\n",
    "        return 1\n",
    "    else:\n",
    "        return (x * factorial(x-1))"
   ]
  },
  {
   "cell_type": "markdown",
   "metadata": {},
   "source": [
    "![imagen](./img/factorial.png)\n",
    "\n",
    "![imagen](./img/recursivity.jpg)\n",
    "\n",
    "[Ejemplo paso a paso de cómo se calcula un factorial mediante funciones recursivas](https://www.programiz.com/python-programming/recursion#:~:text=Following%20is%20an%20example%20of,*5*6%20%3D%20720%20.)"
   ]
  },
  {
   "cell_type": "markdown",
   "metadata": {},
   "source": [
    "## 6. Documentar funciones\n",
    "Como ya vimos en el primer Notebook, hay que documentar el código en la medida de lo posible. En particular, es necesario documentar bien las funciones. porque muchas veces las importamos de otro sitio, las usamos porque funcionan, pero no sabemos muy bien que hacen. Es por ello, que en Python existe un atributo dentro de las funciones, módulos, métodos o clases, que permite acceder a \"sus comentarios\", a su documentación, donde nos indica qué es lo que hace.\n",
    "\n",
    "Este atributo especial se llama *docstring*, y se accede mediante `nombre_funcion.__doc__`"
   ]
  },
  {
   "cell_type": "code",
   "execution_count": 25,
   "metadata": {},
   "outputs": [
    {
     "name": "stdout",
     "output_type": "stream",
     "text": [
      "Empieza la funcion\n",
      "4\n",
      "\n",
      "    Funcion que multiplca los dos argumentos: x*y\n",
      "    Inputs:\n",
      "        x: float\n",
      "        y: float\n",
      "    \n",
      "    Output:\n",
      "        x * y: float\n",
      "    \n"
     ]
    }
   ],
   "source": [
    "# O mediante una funcion recursiva\n",
    "def factorial(x):\n",
    "    if x == 1:\n",
    "        return 1\n",
    "    else:\n",
    "        return (x * factorial(x-1))\n",
    "\n",
    "\n",
    "# 1! = 1\n",
    "# 2! = 2 * 1 = 2 * 1!\n",
    "# 3! = 3 * 2 * 1 = 3 * 2!\n",
    "# 4! = 4 * 3 * 2 * 1 = 4 * 3!\n",
    "\n",
    "# 200! = 200 * 199! \n",
    "# 199! = 199 * 198!\n",
    "#...\n",
    "# 1!\n",
    "\n",
    "\n",
    "num_factorial = 3\n",
    "print(\"El factorial de\", num_factorial, \"es\", factorial(num_factorial ))"
   ]
  },
  {
   "cell_type": "code",
   "execution_count": 16,
   "metadata": {},
   "outputs": [
    {
     "name": "stdout",
     "output_type": "stream",
     "text": [
      "Empieza la funcion\n",
      "4\n",
      "\n",
      "    Funcion que multiplca los dos argumentos: x*y\n",
      "    Inputs:\n",
      "        x: float\n",
      "        y: float\n",
      "    \n",
      "    Output:\n",
      "        x * y: float\n",
      "    \n"
     ]
    }
   ],
   "source": [
    "def multiplica(x,y):\n",
    "    \"\"\"\n",
    "    Funcion que multiplca los dos argumentos: x*y\n",
    "    Inputs:\n",
    "        x: float\n",
    "        y: float\n",
    "    \n",
    "    Output:\n",
    "        x * y: float\n",
    "    \"\"\"\n",
    "    print(\"Empieza la funcion\")\n",
    "    # Mas comentarios\n",
    "    \n",
    "    return x*y\n",
    "\n",
    "print(multiplica(2,2))\n",
    "print(multiplica.__doc__)"
   ]
  },
  {
   "cell_type": "code",
   "execution_count": 95,
   "metadata": {},
   "outputs": [
    {
     "data": {
      "text/plain": [
       "True"
      ]
     },
     "execution_count": 95,
     "metadata": {},
     "output_type": "execute_result"
    }
   ],
   "source": [
    "isinstance(True, int)"
   ]
  },
  {
   "cell_type": "code",
   "execution_count": 96,
   "metadata": {},
   "outputs": [
    {
     "data": {
      "text/plain": [
       "True"
      ]
     },
     "execution_count": 96,
     "metadata": {},
     "output_type": "execute_result"
    }
   ],
   "source": [
    "issubclass(bool, int)"
   ]
  },
  {
   "cell_type": "code",
   "execution_count": 17,
   "metadata": {},
   "outputs": [
    {
     "name": "stdout",
     "output_type": "stream",
     "text": [
      "Help on function multiplica in module __main__:\n",
      "\n",
      "multiplica(x, y)\n",
      "    Funcion que multiplca los dos argumentos: x*y\n",
      "    Inputs:\n",
      "        x: float\n",
      "        y: float\n",
      "    \n",
      "    Output:\n",
      "        x * y: float\n",
      "\n"
     ]
    }
   ],
   "source": [
    "help(multiplica)"
   ]
  },
  {
   "cell_type": "markdown",
   "metadata": {},
   "source": [
    "Los comentarios que se ponen pueden ser de línea o multilínea. Para funciones sencillas puede ser suficiente con una sola línea de comentario, pero si fuesen más complejas, el *docstring* debería llevar la siguiente información:\n",
    "* Descripción de la función\n",
    "* Argumentos de entrada: nombre, tipos y qué es lo que hacen\n",
    "* Argumentos de salida: nombre, tipos y qué son"
   ]
  },
  {
   "cell_type": "markdown",
   "metadata": {},
   "source": [
    "## 7. Resumen"
   ]
  },
  {
   "cell_type": "code",
   "execution_count": 26,
   "metadata": {},
   "outputs": [
    {
     "name": "stdout",
     "output_type": "stream",
     "text": [
      "1.24\n",
      "3.1\n",
      "6.2\n",
      "<class 'tuple'>\n",
      "<class 'dict'>\n",
      "Camara = 24MPx\n",
      "Bateria = 10\n",
      "Peso = 200\n",
      "{'Camara': '24MPx', 'Bateria': 10, 'Peso': 200}\n",
      "Su pedido AAA se entregará el 20-07-2020\n",
      "Contacte con Att. Cliente\n",
      "Empieza la funcion\n",
      "4\n",
      "\n",
      "    Funcion que multiplca los dos argumentos: x*y\n",
      "    \n"
     ]
    }
   ],
   "source": [
    "# Una funcion tiene la siguiente sintaxis\n",
    "def km_millas(distancia):\n",
    "    millas = distancia * 0.62\n",
    "    return millas\n",
    "\n",
    "# La podemos llamar cuántas veces queramos\n",
    "print(km_millas(2))\n",
    "print(km_millas(5))\n",
    "print(km_millas(10))\n",
    "\n",
    "# Las funciones pueden tener argumentos posicionales\n",
    "def multipl(x1, x2, x3, x4):\n",
    "    return (x1 * x2 * x3) / x4\n",
    "\n",
    "multipl(4,6,7,2)\n",
    "\n",
    "# Argumentos variables\n",
    "def multipl_var(*args):\n",
    "    print(type(args))\n",
    "    mult_tot = 1\n",
    "    \n",
    "    for i in args:\n",
    "        mult_tot = mult_tot * i\n",
    "        \n",
    "    return mult_tot\n",
    "\n",
    "\n",
    "multipl_var(4,5,6,3)\n",
    "\n",
    "\n",
    "# Argumentos con formato clave valor\n",
    "def movil(**kwargs):\n",
    "    \n",
    "    print(type(kwargs))\n",
    "    for key, value in kwargs.items():\n",
    "        print(key, \"=\", value)\n",
    "        \n",
    "    return kwargs\n",
    "\n",
    "# Llamamos a la funcion\n",
    "print(movil(Camara = \"24MPx\",\n",
    "           Bateria = 10,\n",
    "           Peso = 200))\n",
    "\n",
    "\n",
    "# Argumentos keyword\n",
    "def venta_online(pedido, fecha_entrega, incidencia = False):\n",
    "    \n",
    "    if(incidencia):\n",
    "        print(\"Contacte con Att. Cliente\")\n",
    "        \n",
    "    else:\n",
    "        print(\"Su pedido\", pedido, \"se entregará el\", fecha_entrega)\n",
    "        \n",
    "venta_online(\"AAA\", \"20-07-2020\")\n",
    "venta_online(\"AAA\", \"20-07-2020\", True)\n",
    "\n",
    "\n",
    "\n",
    "# Las funciones se documentan con el atributo docstring\n",
    "def multiplica(x,y):\n",
    "    \"\"\"\n",
    "    Funcion que multiplca los dos argumentos: x*y\n",
    "    \"\"\"\n",
    "    print(\"Empieza la funcion\")\n",
    "    # Mas comentarios\n",
    "    \n",
    "    return x*y\n",
    "\n",
    "print(multiplica(2,2))\n",
    "print(multiplica.__doc__)"
   ]
  },
  {
   "cell_type": "code",
   "execution_count": null,
   "metadata": {},
   "outputs": [],
   "source": [
    "filas = int(input(\"Introduzca un numero\")) # 4\n",
    "\n",
    "for i in range(filas):  # 0,1,2,3\n",
    "    \n",
    "    out = \"\"\n",
    "    for j in range(filas-i): #4-2\n",
    "        out = out + \" \" + str(j + 1) # 1,2,3\n",
    "    print(out)"
   ]
  },
  {
   "cell_type": "code",
   "execution_count": null,
   "metadata": {},
   "outputs": [],
   "source": [
    "ingresos = [100, 200, 500, 100, 600]\n",
    "gastos = [50, 20, 70, 0, 25]\n",
    "\n",
    "ing_gasto = []\n",
    "\n",
    "for i in range(len(ingresos)):\n",
    "    try:\n",
    "        ing_gasto.append(ingresos[i]/gastos[i])\n",
    "        \n",
    "    except ZeroDivisionError:\n",
    "        print(ZeroDivisionError)\n",
    "        ing_gasto.append(9999)\n",
    "    \n",
    "print(ing_gasto)"
   ]
  },
  {
   "cell_type": "code",
   "execution_count": 97,
   "metadata": {},
   "outputs": [
    {
     "data": {
      "text/plain": [
       "type"
      ]
     },
     "execution_count": 97,
     "metadata": {},
     "output_type": "execute_result"
    }
   ],
   "source": [
    "type(bool)"
   ]
  },
  {
   "cell_type": "code",
   "execution_count": 98,
   "metadata": {},
   "outputs": [
    {
     "data": {
      "text/plain": [
       "bool"
      ]
     },
     "execution_count": 98,
     "metadata": {},
     "output_type": "execute_result"
    }
   ],
   "source": [
    "type(True)"
   ]
  },
  {
   "cell_type": "code",
   "execution_count": 100,
   "metadata": {},
   "outputs": [
    {
     "name": "stdout",
     "output_type": "stream",
     "text": [
      "¡sorpresa!\n"
     ]
    }
   ],
   "source": [
    "i = 10\n",
    "while i < 6:\n",
    "    print(i)\n",
    "    i = i+1\n",
    "else:\n",
    "    print(\"¡sorpresa!\")\n"
   ]
  }
 ],
 "metadata": {
  "kernelspec": {
   "display_name": "Python 3 (ipykernel)",
   "language": "python",
   "name": "python3"
  },
  "language_info": {
   "codemirror_mode": {
    "name": "ipython",
    "version": 3
   },
   "file_extension": ".py",
   "mimetype": "text/x-python",
   "name": "python",
   "nbconvert_exporter": "python",
   "pygments_lexer": "ipython3",
   "version": "3.11.3"
  },
  "vscode": {
   "interpreter": {
    "hash": "252189e587d1e2aeba4a06e91fa71896c7a7f6e22e918b9407c7cde4ef2d5985"
   }
  }
 },
 "nbformat": 4,
 "nbformat_minor": 4
}
